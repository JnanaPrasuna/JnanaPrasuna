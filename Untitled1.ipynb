{
  "nbformat": 4,
  "nbformat_minor": 0,
  "metadata": {
    "colab": {
      "provenance": [],
      "toc_visible": true,
      "authorship_tag": "ABX9TyOMX1FGXcdhe3nLCywWVyk9",
      "include_colab_link": true
    },
    "kernelspec": {
      "name": "python3",
      "display_name": "Python 3"
    },
    "language_info": {
      "name": "python"
    }
  },
  "cells": [
    {
      "cell_type": "markdown",
      "metadata": {
        "id": "view-in-github",
        "colab_type": "text"
      },
      "source": [
        "<a href=\"https://colab.research.google.com/github/JnanaPrasuna/JnanaPrasuna/blob/main/Untitled1.ipynb\" target=\"_parent\"><img src=\"https://colab.research.google.com/assets/colab-badge.svg\" alt=\"Open In Colab\"/></a>"
      ]
    },
    {
      "cell_type": "code",
      "execution_count": 25,
      "metadata": {
        "colab": {
          "base_uri": "https://localhost:8080/"
        },
        "id": "BbQr60AyLETq",
        "outputId": "76b84e50-9225-4734-fa76-29b9021efb54"
      },
      "outputs": [
        {
          "output_type": "stream",
          "name": "stdout",
          "text": [
            "Add: [[6 4]\n",
            " [8 8]]\n",
            "Sub: [[ 2  2]\n",
            " [-2  6]]\n",
            "Mul: [[ 8  3]\n",
            " [15  7]]\n",
            "Div: [[2.  3. ]\n",
            " [0.6 7. ]]\n"
          ]
        }
      ],
      "source": [
        "import numpy as np\n",
        "x=np.array([[4,3], [3,7]])\n",
        "y=np.array([[2,1] ,[5,1]])\n",
        "print(\"Add:\",x+y)\n",
        "print(\"Sub:\",x-y)\n",
        "print(\"Mul:\",x*y)\n",
        "print(\"Div:\",x/y)"
      ]
    },
    {
      "cell_type": "code",
      "source": [
        "import numpy as np\n",
        "z=np.array([1,2,3,4])\n",
        "mean=np.mean(z)\n",
        "std=np.std(z)\n",
        "print(\"mean:\", mean)\n",
        "print(\"Standard Deviation: \",std)\n",
        "\n"
      ],
      "metadata": {
        "colab": {
          "base_uri": "https://localhost:8080/"
        },
        "id": "HNLUPTdANT8m",
        "outputId": "33cca1b5-3660-4d38-d6f4-f7793c1bfb41"
      },
      "execution_count": 24,
      "outputs": [
        {
          "output_type": "stream",
          "name": "stdout",
          "text": [
            "mean: 2.5\n",
            "Standard Deviation:  1.118033988749895\n"
          ]
        }
      ]
    },
    {
      "cell_type": "code",
      "source": [
        "import numpy as np\n",
        "narr=np.arange(10,50,5)\n",
        "print(\"NumpyArray\",narr)"
      ],
      "metadata": {
        "colab": {
          "base_uri": "https://localhost:8080/"
        },
        "id": "0_l5rM8mPIWL",
        "outputId": "bec12bef-f747-4037-a5ef-669f8d4e22f7"
      },
      "execution_count": 27,
      "outputs": [
        {
          "output_type": "stream",
          "name": "stdout",
          "text": [
            "NumpyArray [10 15 20 25 30 35 40 45]\n"
          ]
        }
      ]
    },
    {
      "cell_type": "code",
      "source": [
        "import numpy as np\n",
        "a=np.array([1,2,3,4,5,6,7,8])\n",
        "new=a.reshape(2,4)\n",
        "print(new)"
      ],
      "metadata": {
        "colab": {
          "base_uri": "https://localhost:8080/"
        },
        "id": "FWy1dfh1QY5B",
        "outputId": "ecc30b7b-a48c-457d-e317-c55e41e1a12c"
      },
      "execution_count": 29,
      "outputs": [
        {
          "output_type": "stream",
          "name": "stdout",
          "text": [
            "[[1 2 3 4]\n",
            " [5 6 7 8]]\n"
          ]
        }
      ]
    },
    {
      "cell_type": "code",
      "source": [
        "import numpy as np\n",
        "arr=np.array([[1,2,3],[4,5,6],[7,8,9]])\n",
        "sub_mtx=arr[1:, :2]\n",
        "print(sub_mtx)\n",
        "arr[arr>4]=0\n",
        "print(arr)"
      ],
      "metadata": {
        "colab": {
          "base_uri": "https://localhost:8080/"
        },
        "id": "OVpTFA3rRcco",
        "outputId": "e598f02a-c9a8-4e2f-a402-2139af2f7d94"
      },
      "execution_count": 32,
      "outputs": [
        {
          "output_type": "stream",
          "name": "stdout",
          "text": [
            "[[4 5]\n",
            " [7 8]]\n",
            "[[1 2 3]\n",
            " [4 0 0]\n",
            " [0 0 0]]\n"
          ]
        }
      ]
    },
    {
      "cell_type": "code",
      "source": [
        "import numpy as np\n",
        "a=np.array([1,2,3])\n",
        "b=np.array([4,5,6])\n",
        "print(\"Add:\",a+b)\n",
        "print(\"Sub:\", a-b)\n",
        "print(\"Mul:\",a*b)\n",
        "print(\"Div:\",a/b)\n",
        "\n"
      ],
      "metadata": {
        "colab": {
          "base_uri": "https://localhost:8080/"
        },
        "id": "btxRkecUTDZy",
        "outputId": "a28577f0-18da-4ce3-8718-fdcd1e8022a6"
      },
      "execution_count": 35,
      "outputs": [
        {
          "output_type": "stream",
          "name": "stdout",
          "text": [
            "Add: [5 7 9]\n",
            "Sub: [-3 -3 -3]\n",
            "Mul: [ 4 10 18]\n",
            "Div: [0.25 0.4  0.5 ]\n"
          ]
        }
      ]
    },
    {
      "cell_type": "code",
      "source": [
        "import numpy as np\n",
        "a=np.random.rand(4,4)\n",
        "print(a)\n",
        "max=np.max(a)\n",
        "print(\"Max:\",max)\n",
        "sum=np.sum(a)\n",
        "print(\"Sum of all elements:\",sum)\n",
        "col_mean=np.mean(a,axis=0)\n",
        "print(col_mean)\n"
      ],
      "metadata": {
        "colab": {
          "base_uri": "https://localhost:8080/"
        },
        "id": "rv8bNbpRU40O",
        "outputId": "38617498-4270-4f50-adbd-237fbd9cffad"
      },
      "execution_count": 51,
      "outputs": [
        {
          "output_type": "stream",
          "name": "stdout",
          "text": [
            "[[0.6875235  0.74053181 0.57371537 0.3540191 ]\n",
            " [0.11443738 0.89471993 0.12322687 0.28817769]\n",
            " [0.29531338 0.8431918  0.28231086 0.87095485]\n",
            " [0.69382016 0.73082179 0.9489865  0.87387942]]\n",
            "Max: 0.9489865018048096\n",
            "Sum of all elements: 9.31563041380644\n",
            "[0.44777361 0.80231633 0.4820599  0.59675776]\n"
          ]
        }
      ]
    },
    {
      "cell_type": "code",
      "source": [
        "import numpy as np\n",
        "arr=np.array([1,2,3,4])\n",
        "new=np.add(arr,10)\n",
        "print(\"Added array:\",new)\n",
        "marr=np.multiply(new,2)\n",
        "print(\"Multiplied array:\", marr)"
      ],
      "metadata": {
        "colab": {
          "base_uri": "https://localhost:8080/"
        },
        "id": "xwKl5ke-WPrb",
        "outputId": "253dfa9e-baf2-444e-bf5a-7c18780bfaa8"
      },
      "execution_count": 44,
      "outputs": [
        {
          "output_type": "stream",
          "name": "stdout",
          "text": [
            "Added array: [11 12 13 14]\n",
            "Multiplied array: [22 24 26 28]\n"
          ]
        }
      ]
    },
    {
      "cell_type": "code",
      "source": [
        "import numpy as np\n",
        "a=np.random.randint(1,101,size=(3,4,5))\n",
        "print(a)\n",
        "a[a%3==0]=-1\n",
        "print(a)\n",
        "print(a[0][1])\n",
        "print(a[:, :2, :-3])\n"
      ],
      "metadata": {
        "colab": {
          "base_uri": "https://localhost:8080/"
        },
        "id": "jijJopt8Xy7U",
        "outputId": "631f5e4e-cb6a-4a3b-c180-1fd948146a30"
      },
      "execution_count": 57,
      "outputs": [
        {
          "output_type": "stream",
          "name": "stdout",
          "text": [
            "[[[97 95 28 78 15]\n",
            "  [93  4 62 33 68]\n",
            "  [65 65 55 14 30]\n",
            "  [50  7 90 23 13]]\n",
            "\n",
            " [[63 50  5 69 20]\n",
            "  [28 30 77 14  4]\n",
            "  [ 5 97 93 74 77]\n",
            "  [99 84 49 15 49]]\n",
            "\n",
            " [[29 61 51 39 97]\n",
            "  [73 85 56 39 38]\n",
            "  [58 53 30 54 30]\n",
            "  [20 89 67 80 11]]]\n",
            "[[[97 95 28 -1 -1]\n",
            "  [-1  4 62 -1 68]\n",
            "  [65 65 55 14 -1]\n",
            "  [50  7 -1 23 13]]\n",
            "\n",
            " [[-1 50  5 -1 20]\n",
            "  [28 -1 77 14  4]\n",
            "  [ 5 97 -1 74 77]\n",
            "  [-1 -1 49 -1 49]]\n",
            "\n",
            " [[29 61 -1 -1 97]\n",
            "  [73 85 56 -1 38]\n",
            "  [58 53 -1 -1 -1]\n",
            "  [20 89 67 80 11]]]\n",
            "[-1  4 62 -1 68]\n",
            "[[[97 95]\n",
            "  [-1  4]]\n",
            "\n",
            " [[-1 50]\n",
            "  [28 -1]]\n",
            "\n",
            " [[29 61]\n",
            "  [73 85]]]\n"
          ]
        }
      ]
    },
    {
      "cell_type": "code",
      "source": [
        "import numpy as np\n",
        "a=np.random.randint(1,20,size=(3,3))\n",
        "print(a)\n",
        "for i in range(len(arr)):\n",
        "  print(arr[i]-np.mean(arr[i]))\n",
        "sa=a**2\n",
        "print(sa)\n",
        "indices=np.argsort(arr.flatten())[::-1][:3]\n",
        "print(indices)\n",
        "\n"
      ],
      "metadata": {
        "colab": {
          "base_uri": "https://localhost:8080/"
        },
        "id": "VXFG5mDkbAbl",
        "outputId": "beefdab1-c63f-43e2-b1c6-3c63736a472d"
      },
      "execution_count": 65,
      "outputs": [
        {
          "output_type": "stream",
          "name": "stdout",
          "text": [
            "[[ 9  8  7]\n",
            " [ 5  5 14]\n",
            " [ 7 12  6]]\n",
            "0.0\n",
            "0.0\n",
            "0.0\n",
            "0.0\n",
            "[[ 81  64  49]\n",
            " [ 25  25 196]\n",
            " [ 49 144  36]]\n",
            "[3 2 1]\n"
          ]
        }
      ]
    }
  ]
}