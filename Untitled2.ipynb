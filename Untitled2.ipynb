{
  "nbformat": 4,
  "nbformat_minor": 0,
  "metadata": {
    "colab": {
      "provenance": [],
      "toc_visible": true,
      "authorship_tag": "ABX9TyM/BETWCIVNXKQKp0LhhZtT",
      "include_colab_link": true
    },
    "kernelspec": {
      "name": "python3",
      "display_name": "Python 3"
    },
    "language_info": {
      "name": "python"
    }
  },
  "cells": [
    {
      "cell_type": "markdown",
      "metadata": {
        "id": "view-in-github",
        "colab_type": "text"
      },
      "source": [
        "<a href=\"https://colab.research.google.com/github/JnanaPrasuna/JnanaPrasuna/blob/main/Untitled2.ipynb\" target=\"_parent\"><img src=\"https://colab.research.google.com/assets/colab-badge.svg\" alt=\"Open In Colab\"/></a>"
      ]
    },
    {
      "cell_type": "markdown",
      "source": [
        "1. Create a Pandas DataFrame from the following dictionary:"
      ],
      "metadata": {
        "id": "uUJ5FTXFl6tx"
      }
    },
    {
      "cell_type": "code",
      "execution_count": 2,
      "metadata": {
        "colab": {
          "base_uri": "https://localhost:8080/"
        },
        "id": "LtHdjYcTjq__",
        "outputId": "83689e4b-f8bb-4c99-df02-69a2bb22414b"
      },
      "outputs": [
        {
          "output_type": "stream",
          "name": "stdout",
          "text": [
            "    Name  Age  Salary\n",
            "0  Alice   24   50000\n",
            "1    Bob   27   55000\n",
            "2  Carol   22   48000\n"
          ]
        }
      ],
      "source": [
        "import pandas as pd\n",
        "data=pd.DataFrame({ 'Name':['Alice','Bob','Carol'],'Age':[24,27,22],'Salary':[50000,55000,48000]})\n",
        "print(data)\n",
        ""
      ]
    },
    {
      "cell_type": "markdown",
      "source": [
        "Add a new column called Bonus which is 10% of the salary."
      ],
      "metadata": {
        "id": "K9_6xm0NnB1L"
      }
    },
    {
      "cell_type": "code",
      "source": [
        "data['Bonus']=data['Salary']*0.1\n",
        "print(data)"
      ],
      "metadata": {
        "id": "dtaXR_27m8Bb"
      },
      "execution_count": null,
      "outputs": []
    },
    {
      "cell_type": "markdown",
      "source": [
        "\n",
        "Display the first two rows"
      ],
      "metadata": {
        "id": "26-IZfQTnFO-"
      }
    },
    {
      "cell_type": "code",
      "source": [
        "data.head(2)"
      ],
      "metadata": {
        "colab": {
          "base_uri": "https://localhost:8080/",
          "height": 112
        },
        "id": "tj8wArPIkHVT",
        "outputId": "998cf952-98b6-4b7f-ea5d-f861a03b144a"
      },
      "execution_count": 4,
      "outputs": [
        {
          "output_type": "execute_result",
          "data": {
            "text/plain": [
              "    Name  Age  Salary   Bonus\n",
              "0  Alice   24   50000  5000.0\n",
              "1    Bob   27   55000  5500.0"
            ],
            "text/html": [
              "\n",
              "  <div id=\"df-ff8079b4-d6e9-45a7-a115-92d3e848a51a\" class=\"colab-df-container\">\n",
              "    <div>\n",
              "<style scoped>\n",
              "    .dataframe tbody tr th:only-of-type {\n",
              "        vertical-align: middle;\n",
              "    }\n",
              "\n",
              "    .dataframe tbody tr th {\n",
              "        vertical-align: top;\n",
              "    }\n",
              "\n",
              "    .dataframe thead th {\n",
              "        text-align: right;\n",
              "    }\n",
              "</style>\n",
              "<table border=\"1\" class=\"dataframe\">\n",
              "  <thead>\n",
              "    <tr style=\"text-align: right;\">\n",
              "      <th></th>\n",
              "      <th>Name</th>\n",
              "      <th>Age</th>\n",
              "      <th>Salary</th>\n",
              "      <th>Bonus</th>\n",
              "    </tr>\n",
              "  </thead>\n",
              "  <tbody>\n",
              "    <tr>\n",
              "      <th>0</th>\n",
              "      <td>Alice</td>\n",
              "      <td>24</td>\n",
              "      <td>50000</td>\n",
              "      <td>5000.0</td>\n",
              "    </tr>\n",
              "    <tr>\n",
              "      <th>1</th>\n",
              "      <td>Bob</td>\n",
              "      <td>27</td>\n",
              "      <td>55000</td>\n",
              "      <td>5500.0</td>\n",
              "    </tr>\n",
              "  </tbody>\n",
              "</table>\n",
              "</div>\n",
              "    <div class=\"colab-df-buttons\">\n",
              "\n",
              "  <div class=\"colab-df-container\">\n",
              "    <button class=\"colab-df-convert\" onclick=\"convertToInteractive('df-ff8079b4-d6e9-45a7-a115-92d3e848a51a')\"\n",
              "            title=\"Convert this dataframe to an interactive table.\"\n",
              "            style=\"display:none;\">\n",
              "\n",
              "  <svg xmlns=\"http://www.w3.org/2000/svg\" height=\"24px\" viewBox=\"0 -960 960 960\">\n",
              "    <path d=\"M120-120v-720h720v720H120Zm60-500h600v-160H180v160Zm220 220h160v-160H400v160Zm0 220h160v-160H400v160ZM180-400h160v-160H180v160Zm440 0h160v-160H620v160ZM180-180h160v-160H180v160Zm440 0h160v-160H620v160Z\"/>\n",
              "  </svg>\n",
              "    </button>\n",
              "\n",
              "  <style>\n",
              "    .colab-df-container {\n",
              "      display:flex;\n",
              "      gap: 12px;\n",
              "    }\n",
              "\n",
              "    .colab-df-convert {\n",
              "      background-color: #E8F0FE;\n",
              "      border: none;\n",
              "      border-radius: 50%;\n",
              "      cursor: pointer;\n",
              "      display: none;\n",
              "      fill: #1967D2;\n",
              "      height: 32px;\n",
              "      padding: 0 0 0 0;\n",
              "      width: 32px;\n",
              "    }\n",
              "\n",
              "    .colab-df-convert:hover {\n",
              "      background-color: #E2EBFA;\n",
              "      box-shadow: 0px 1px 2px rgba(60, 64, 67, 0.3), 0px 1px 3px 1px rgba(60, 64, 67, 0.15);\n",
              "      fill: #174EA6;\n",
              "    }\n",
              "\n",
              "    .colab-df-buttons div {\n",
              "      margin-bottom: 4px;\n",
              "    }\n",
              "\n",
              "    [theme=dark] .colab-df-convert {\n",
              "      background-color: #3B4455;\n",
              "      fill: #D2E3FC;\n",
              "    }\n",
              "\n",
              "    [theme=dark] .colab-df-convert:hover {\n",
              "      background-color: #434B5C;\n",
              "      box-shadow: 0px 1px 3px 1px rgba(0, 0, 0, 0.15);\n",
              "      filter: drop-shadow(0px 1px 2px rgba(0, 0, 0, 0.3));\n",
              "      fill: #FFFFFF;\n",
              "    }\n",
              "  </style>\n",
              "\n",
              "    <script>\n",
              "      const buttonEl =\n",
              "        document.querySelector('#df-ff8079b4-d6e9-45a7-a115-92d3e848a51a button.colab-df-convert');\n",
              "      buttonEl.style.display =\n",
              "        google.colab.kernel.accessAllowed ? 'block' : 'none';\n",
              "\n",
              "      async function convertToInteractive(key) {\n",
              "        const element = document.querySelector('#df-ff8079b4-d6e9-45a7-a115-92d3e848a51a');\n",
              "        const dataTable =\n",
              "          await google.colab.kernel.invokeFunction('convertToInteractive',\n",
              "                                                    [key], {});\n",
              "        if (!dataTable) return;\n",
              "\n",
              "        const docLinkHtml = 'Like what you see? Visit the ' +\n",
              "          '<a target=\"_blank\" href=https://colab.research.google.com/notebooks/data_table.ipynb>data table notebook</a>'\n",
              "          + ' to learn more about interactive tables.';\n",
              "        element.innerHTML = '';\n",
              "        dataTable['output_type'] = 'display_data';\n",
              "        await google.colab.output.renderOutput(dataTable, element);\n",
              "        const docLink = document.createElement('div');\n",
              "        docLink.innerHTML = docLinkHtml;\n",
              "        element.appendChild(docLink);\n",
              "      }\n",
              "    </script>\n",
              "  </div>\n",
              "\n",
              "\n",
              "<div id=\"df-2394aa28-1133-48e6-a9c9-9447e22a0941\">\n",
              "  <button class=\"colab-df-quickchart\" onclick=\"quickchart('df-2394aa28-1133-48e6-a9c9-9447e22a0941')\"\n",
              "            title=\"Suggest charts\"\n",
              "            style=\"display:none;\">\n",
              "\n",
              "<svg xmlns=\"http://www.w3.org/2000/svg\" height=\"24px\"viewBox=\"0 0 24 24\"\n",
              "     width=\"24px\">\n",
              "    <g>\n",
              "        <path d=\"M19 3H5c-1.1 0-2 .9-2 2v14c0 1.1.9 2 2 2h14c1.1 0 2-.9 2-2V5c0-1.1-.9-2-2-2zM9 17H7v-7h2v7zm4 0h-2V7h2v10zm4 0h-2v-4h2v4z\"/>\n",
              "    </g>\n",
              "</svg>\n",
              "  </button>\n",
              "\n",
              "<style>\n",
              "  .colab-df-quickchart {\n",
              "      --bg-color: #E8F0FE;\n",
              "      --fill-color: #1967D2;\n",
              "      --hover-bg-color: #E2EBFA;\n",
              "      --hover-fill-color: #174EA6;\n",
              "      --disabled-fill-color: #AAA;\n",
              "      --disabled-bg-color: #DDD;\n",
              "  }\n",
              "\n",
              "  [theme=dark] .colab-df-quickchart {\n",
              "      --bg-color: #3B4455;\n",
              "      --fill-color: #D2E3FC;\n",
              "      --hover-bg-color: #434B5C;\n",
              "      --hover-fill-color: #FFFFFF;\n",
              "      --disabled-bg-color: #3B4455;\n",
              "      --disabled-fill-color: #666;\n",
              "  }\n",
              "\n",
              "  .colab-df-quickchart {\n",
              "    background-color: var(--bg-color);\n",
              "    border: none;\n",
              "    border-radius: 50%;\n",
              "    cursor: pointer;\n",
              "    display: none;\n",
              "    fill: var(--fill-color);\n",
              "    height: 32px;\n",
              "    padding: 0;\n",
              "    width: 32px;\n",
              "  }\n",
              "\n",
              "  .colab-df-quickchart:hover {\n",
              "    background-color: var(--hover-bg-color);\n",
              "    box-shadow: 0 1px 2px rgba(60, 64, 67, 0.3), 0 1px 3px 1px rgba(60, 64, 67, 0.15);\n",
              "    fill: var(--button-hover-fill-color);\n",
              "  }\n",
              "\n",
              "  .colab-df-quickchart-complete:disabled,\n",
              "  .colab-df-quickchart-complete:disabled:hover {\n",
              "    background-color: var(--disabled-bg-color);\n",
              "    fill: var(--disabled-fill-color);\n",
              "    box-shadow: none;\n",
              "  }\n",
              "\n",
              "  .colab-df-spinner {\n",
              "    border: 2px solid var(--fill-color);\n",
              "    border-color: transparent;\n",
              "    border-bottom-color: var(--fill-color);\n",
              "    animation:\n",
              "      spin 1s steps(1) infinite;\n",
              "  }\n",
              "\n",
              "  @keyframes spin {\n",
              "    0% {\n",
              "      border-color: transparent;\n",
              "      border-bottom-color: var(--fill-color);\n",
              "      border-left-color: var(--fill-color);\n",
              "    }\n",
              "    20% {\n",
              "      border-color: transparent;\n",
              "      border-left-color: var(--fill-color);\n",
              "      border-top-color: var(--fill-color);\n",
              "    }\n",
              "    30% {\n",
              "      border-color: transparent;\n",
              "      border-left-color: var(--fill-color);\n",
              "      border-top-color: var(--fill-color);\n",
              "      border-right-color: var(--fill-color);\n",
              "    }\n",
              "    40% {\n",
              "      border-color: transparent;\n",
              "      border-right-color: var(--fill-color);\n",
              "      border-top-color: var(--fill-color);\n",
              "    }\n",
              "    60% {\n",
              "      border-color: transparent;\n",
              "      border-right-color: var(--fill-color);\n",
              "    }\n",
              "    80% {\n",
              "      border-color: transparent;\n",
              "      border-right-color: var(--fill-color);\n",
              "      border-bottom-color: var(--fill-color);\n",
              "    }\n",
              "    90% {\n",
              "      border-color: transparent;\n",
              "      border-bottom-color: var(--fill-color);\n",
              "    }\n",
              "  }\n",
              "</style>\n",
              "\n",
              "  <script>\n",
              "    async function quickchart(key) {\n",
              "      const quickchartButtonEl =\n",
              "        document.querySelector('#' + key + ' button');\n",
              "      quickchartButtonEl.disabled = true;  // To prevent multiple clicks.\n",
              "      quickchartButtonEl.classList.add('colab-df-spinner');\n",
              "      try {\n",
              "        const charts = await google.colab.kernel.invokeFunction(\n",
              "            'suggestCharts', [key], {});\n",
              "      } catch (error) {\n",
              "        console.error('Error during call to suggestCharts:', error);\n",
              "      }\n",
              "      quickchartButtonEl.classList.remove('colab-df-spinner');\n",
              "      quickchartButtonEl.classList.add('colab-df-quickchart-complete');\n",
              "    }\n",
              "    (() => {\n",
              "      let quickchartButtonEl =\n",
              "        document.querySelector('#df-2394aa28-1133-48e6-a9c9-9447e22a0941 button');\n",
              "      quickchartButtonEl.style.display =\n",
              "        google.colab.kernel.accessAllowed ? 'block' : 'none';\n",
              "    })();\n",
              "  </script>\n",
              "</div>\n",
              "\n",
              "    </div>\n",
              "  </div>\n"
            ],
            "application/vnd.google.colaboratory.intrinsic+json": {
              "type": "dataframe",
              "variable_name": "data",
              "summary": "{\n  \"name\": \"data\",\n  \"rows\": 3,\n  \"fields\": [\n    {\n      \"column\": \"Name\",\n      \"properties\": {\n        \"dtype\": \"string\",\n        \"num_unique_values\": 3,\n        \"samples\": [\n          \"Alice\",\n          \"Bob\",\n          \"Carol\"\n        ],\n        \"semantic_type\": \"\",\n        \"description\": \"\"\n      }\n    },\n    {\n      \"column\": \"Age\",\n      \"properties\": {\n        \"dtype\": \"number\",\n        \"std\": 2,\n        \"min\": 22,\n        \"max\": 27,\n        \"num_unique_values\": 3,\n        \"samples\": [\n          24,\n          27,\n          22\n        ],\n        \"semantic_type\": \"\",\n        \"description\": \"\"\n      }\n    },\n    {\n      \"column\": \"Salary\",\n      \"properties\": {\n        \"dtype\": \"number\",\n        \"std\": 3605,\n        \"min\": 48000,\n        \"max\": 55000,\n        \"num_unique_values\": 3,\n        \"samples\": [\n          50000,\n          55000,\n          48000\n        ],\n        \"semantic_type\": \"\",\n        \"description\": \"\"\n      }\n    },\n    {\n      \"column\": \"Bonus\",\n      \"properties\": {\n        \"dtype\": \"number\",\n        \"std\": 360.5551275463989,\n        \"min\": 4800.0,\n        \"max\": 5500.0,\n        \"num_unique_values\": 3,\n        \"samples\": [\n          5000.0,\n          5500.0,\n          4800.0\n        ],\n        \"semantic_type\": \"\",\n        \"description\": \"\"\n      }\n    }\n  ]\n}"
            }
          },
          "metadata": {},
          "execution_count": 4
        }
      ]
    },
    {
      "cell_type": "markdown",
      "source": [
        "Compute the mean salary"
      ],
      "metadata": {
        "id": "cHrTfEBCnPQS"
      }
    },
    {
      "cell_type": "code",
      "source": [
        "\n",
        "data['Salary'].mean()"
      ],
      "metadata": {
        "colab": {
          "base_uri": "https://localhost:8080/"
        },
        "id": "YTv5Y4BwkNRU",
        "outputId": "2f9be84e-41fa-4be4-969b-ba7810a36ea8"
      },
      "execution_count": 5,
      "outputs": [
        {
          "output_type": "execute_result",
          "data": {
            "text/plain": [
              "51000.0"
            ]
          },
          "metadata": {},
          "execution_count": 5
        }
      ]
    },
    {
      "cell_type": "markdown",
      "source": [
        "Extract all rows where the Age is greater than 25"
      ],
      "metadata": {
        "id": "qxVuyn39no5Q"
      }
    },
    {
      "cell_type": "code",
      "source": [
        "\n",
        "\n",
        "print(data[data['Age']>25])\n",
        ""
      ],
      "metadata": {
        "colab": {
          "base_uri": "https://localhost:8080/"
        },
        "id": "ISR76ndpkVWX",
        "outputId": "32898314-615c-4ac3-dda3-1c3b6d866604"
      },
      "execution_count": 6,
      "outputs": [
        {
          "output_type": "stream",
          "name": "stdout",
          "text": [
            "  Name  Age  Salary   Bonus\n",
            "1  Bob   27   55000  5500.0\n"
          ]
        }
      ]
    },
    {
      "cell_type": "markdown",
      "source": [
        "\n",
        "Filter out rows where the Salary is less than 50000."
      ],
      "metadata": {
        "id": "JpUHEkQOntHy"
      }
    },
    {
      "cell_type": "code",
      "source": [
        "print(data[data['Salary']<50000])"
      ],
      "metadata": {
        "colab": {
          "base_uri": "https://localhost:8080/"
        },
        "id": "YuLd39uokZcZ",
        "outputId": "42219eb7-0bc8-4984-8426-6c602c81784d"
      },
      "execution_count": 7,
      "outputs": [
        {
          "output_type": "stream",
          "name": "stdout",
          "text": [
            "    Name  Age  Salary   Bonus\n",
            "2  Carol   22   48000  4800.0\n"
          ]
        }
      ]
    },
    {
      "cell_type": "markdown",
      "source": [
        "Create the following DataFrame:"
      ],
      "metadata": {
        "id": "4kbhKqYen1SO"
      }
    },
    {
      "cell_type": "code",
      "source": [
        "data = {\n",
        " 'A': [1, 2, None, 4],\n",
        " 'B': [None, 2, 3, None],\n",
        " 'C': [1, 2, 3, 4]\n",
        "}\n",
        "df=pd.DataFrame(data)\n",
        "print(df)"
      ],
      "metadata": {
        "colab": {
          "base_uri": "https://localhost:8080/"
        },
        "id": "5T9Sjs5Ekd-N",
        "outputId": "6b949bab-5ae3-433d-8590-d70816567323"
      },
      "execution_count": 8,
      "outputs": [
        {
          "output_type": "stream",
          "name": "stdout",
          "text": [
            "     A    B  C\n",
            "0  1.0  NaN  1\n",
            "1  2.0  2.0  2\n",
            "2  NaN  3.0  3\n",
            "3  4.0  NaN  4\n"
          ]
        }
      ]
    },
    {
      "cell_type": "markdown",
      "source": [
        "\n",
        "Fill missing values in column A with the mean of the column."
      ],
      "metadata": {
        "id": "ieVKOb32n6GQ"
      }
    },
    {
      "cell_type": "code",
      "source": [
        "df['A']=df['A'].fillna(df['A'].mean())\n",
        "print(df['A'])\n",
        ""
      ],
      "metadata": {
        "colab": {
          "base_uri": "https://localhost:8080/"
        },
        "id": "cV15ps3mknJZ",
        "outputId": "7b462b31-7bb9-4912-84f0-d1a112567291"
      },
      "execution_count": 9,
      "outputs": [
        {
          "output_type": "stream",
          "name": "stdout",
          "text": [
            "0    1.000000\n",
            "1    2.000000\n",
            "2    2.333333\n",
            "3    4.000000\n",
            "Name: A, dtype: float64\n"
          ]
        }
      ]
    },
    {
      "cell_type": "markdown",
      "source": [
        "Drop rows where all values are None."
      ],
      "metadata": {
        "id": "lBS1o59Wn-yP"
      }
    },
    {
      "cell_type": "code",
      "source": [
        "\n",
        "\n",
        "df=df.dropna(how=\"all\")\n",
        "print(df)"
      ],
      "metadata": {
        "colab": {
          "base_uri": "https://localhost:8080/"
        },
        "id": "jA1aJatbkvj9",
        "outputId": "57eba9c1-7a7b-4b86-dba3-c646be13aaf2"
      },
      "execution_count": 10,
      "outputs": [
        {
          "output_type": "stream",
          "name": "stdout",
          "text": [
            "          A    B  C\n",
            "0  1.000000  NaN  1\n",
            "1  2.000000  2.0  2\n",
            "2  2.333333  3.0  3\n",
            "3  4.000000  NaN  4\n"
          ]
        }
      ]
    },
    {
      "cell_type": "markdown",
      "source": [
        "Create a DataFrame for employees:"
      ],
      "metadata": {
        "id": "vf63N3DYoHCE"
      }
    },
    {
      "cell_type": "code",
      "source": [
        "data = {\n",
        " 'Department': ['HR', 'HR', 'IT', 'IT', 'Finance'],\n",
        " 'Employee': ['Alice', 'Bob', 'Carol', 'David', 'Eve'],\n",
        " 'Salary': [50000, 45000, 60000, 65000, 70000]\n",
        "}\n",
        "emp=pd.DataFrame(data)\n",
        "print(emp)"
      ],
      "metadata": {
        "colab": {
          "base_uri": "https://localhost:8080/"
        },
        "id": "Zu-EWtLZk2n6",
        "outputId": "088ac0d7-87ac-4471-ab00-4071dd170639"
      },
      "execution_count": 12,
      "outputs": [
        {
          "output_type": "stream",
          "name": "stdout",
          "text": [
            "  Department Employee  Salary\n",
            "0         HR    Alice   50000\n",
            "1         HR      Bob   45000\n",
            "2         IT    Carol   60000\n",
            "3         IT    David   65000\n",
            "4    Finance      Eve   70000\n"
          ]
        }
      ]
    },
    {
      "cell_type": "markdown",
      "source": [
        "department"
      ],
      "metadata": {
        "id": "X3fZhPT8oRFj"
      }
    },
    {
      "cell_type": "code",
      "source": [
        "\n",
        "group=emp.groupby('Department')['Salary'].agg(['sum','mean'])\n",
        "print(group)"
      ],
      "metadata": {
        "colab": {
          "base_uri": "https://localhost:8080/"
        },
        "id": "NfCii_92k8Cd",
        "outputId": "73056ef1-de2d-4d2e-9d83-3b936406bd2b"
      },
      "execution_count": 13,
      "outputs": [
        {
          "output_type": "stream",
          "name": "stdout",
          "text": [
            "               sum     mean\n",
            "Department                 \n",
            "Finance      70000  70000.0\n",
            "HR           95000  47500.0\n",
            "IT          125000  62500.0\n"
          ]
        }
      ]
    },
    {
      "cell_type": "markdown",
      "source": [
        "\n",
        "Create 2 data frames"
      ],
      "metadata": {
        "id": "rDJu0Az7oaPu"
      }
    },
    {
      "cell_type": "code",
      "source": [
        "df1 = pd.DataFrame({'ID': [1, 2, 3], 'Name': ['Alice', 'Bob', 'Carol']})\n",
        "df2 = pd.DataFrame({'ID': [2, 3, 4], 'Age': [25, 30, 22]})\n",
        "print(pd.merge(df1,df2,on='ID'))\n",
        "\n"
      ],
      "metadata": {
        "colab": {
          "base_uri": "https://localhost:8080/"
        },
        "id": "dNqOwLaclDME",
        "outputId": "520cfd54-3e98-45a3-f13e-1639728f913a"
      },
      "execution_count": 15,
      "outputs": [
        {
          "output_type": "stream",
          "name": "stdout",
          "text": [
            "   ID   Name  Age\n",
            "0   2    Bob   25\n",
            "1   3  Carol   30\n"
          ]
        }
      ]
    },
    {
      "cell_type": "markdown",
      "source": [
        "Given a small dataset, clean and display basic statistics using Pandas."
      ],
      "metadata": {
        "id": "ZmCrIR37oryH"
      }
    },
    {
      "cell_type": "code",
      "source": [
        "import numpy as np\n",
        "data={\n",
        "    'Name':['Alice','Bob','Carol','David','Eve'],\n",
        "    'Age':[25,np.nan,22,29,24],\n",
        "    'Salary':[500000,55000,np.nan,48000,20000],\n",
        "    'Department':['HR','IT','Finance','IT','Finance'] # Fixed: Removed extra 'IT' and 'HR'\n",
        "}\n",
        "df=pd.DataFrame(data)\n",
        "print(df)\n",
        "print()\n",
        "print(df.isnull().sum())\n",
        "print()\n",
        "print(df.describe())"
      ],
      "metadata": {
        "colab": {
          "base_uri": "https://localhost:8080/"
        },
        "id": "sl1vjiiQlTcO",
        "outputId": "1659e148-44ab-4e11-f324-ad53258ba401"
      },
      "execution_count": 29,
      "outputs": [
        {
          "output_type": "stream",
          "name": "stdout",
          "text": [
            "    Name   Age    Salary Department\n",
            "0  Alice  25.0  500000.0         HR\n",
            "1    Bob   NaN   55000.0         IT\n",
            "2  Carol  22.0       NaN    Finance\n",
            "3  David  29.0   48000.0         IT\n",
            "4    Eve  24.0   20000.0    Finance\n",
            "\n",
            "Name          0\n",
            "Age           1\n",
            "Salary        1\n",
            "Department    0\n",
            "dtype: int64\n",
            "\n",
            "            Age         Salary\n",
            "count   4.00000       4.000000\n",
            "mean   25.00000  155750.000000\n",
            "std     2.94392  229997.644915\n",
            "min    22.00000   20000.000000\n",
            "25%    23.50000   41000.000000\n",
            "50%    24.50000   51500.000000\n",
            "75%    26.00000  166250.000000\n",
            "max    29.00000  500000.000000\n"
          ]
        }
      ]
    },
    {
      "cell_type": "markdown",
      "source": [
        "Small EDA task"
      ],
      "metadata": {
        "id": "gWLfpg3vpu88"
      }
    },
    {
      "cell_type": "markdown",
      "source": [
        "Import a dataset"
      ],
      "metadata": {
        "id": "-06ARgGbpubY"
      }
    },
    {
      "cell_type": "code",
      "source": [
        "import matplotlib.pyplot as plt\n",
        "import pandas as pd\n",
        "titanic=pd.read_csv(\"titanic-dataset.csv\")\n",
        ""
      ],
      "metadata": {
        "id": "MgRXunxVovmn"
      },
      "execution_count": 30,
      "outputs": []
    },
    {
      "cell_type": "markdown",
      "source": [
        "\n",
        "Display the number of missing values in each column"
      ],
      "metadata": {
        "id": "R9UTGGzQqFv5"
      }
    },
    {
      "cell_type": "code",
      "source": [
        "print(titanic.isnull().sum())"
      ],
      "metadata": {
        "colab": {
          "base_uri": "https://localhost:8080/"
        },
        "id": "U6nyqcCQqDr2",
        "outputId": "7cf9daff-1556-4cb6-d983-9611c13f47dd"
      },
      "execution_count": 31,
      "outputs": [
        {
          "output_type": "stream",
          "name": "stdout",
          "text": [
            "PassengerId      0\n",
            "Survived         0\n",
            "Pclass           0\n",
            "Name             0\n",
            "Sex              0\n",
            "Age            177\n",
            "SibSp            0\n",
            "Parch            0\n",
            "Ticket           0\n",
            "Fare             0\n",
            "Cabin          687\n",
            "Embarked         2\n",
            "dtype: int64\n"
          ]
        }
      ]
    },
    {
      "cell_type": "markdown",
      "source": [
        "Find the average age of passengers."
      ],
      "metadata": {
        "id": "6_zF9GqxqQwL"
      }
    },
    {
      "cell_type": "code",
      "source": [
        "print(titanic['Age'].mean())"
      ],
      "metadata": {
        "colab": {
          "base_uri": "https://localhost:8080/"
        },
        "id": "J8ydZ_afqM2y",
        "outputId": "c4ee60b1-e1d6-455a-a616-f2a73683706c"
      },
      "execution_count": 34,
      "outputs": [
        {
          "output_type": "stream",
          "name": "stdout",
          "text": [
            "29.69911764705882\n"
          ]
        }
      ]
    },
    {
      "cell_type": "markdown",
      "source": [
        "\n",
        "Create a bar plot to show the survival rate based on gender."
      ],
      "metadata": {
        "id": "PdzqjOSyqZ1f"
      }
    },
    {
      "cell_type": "code",
      "source": [
        "import matplotlib.pyplot as plt\n",
        "import pandas as pd\n",
        "\n",
        "# Make sure to load the Titanic dataset before using the 'titanic' variable\n",
        "titanic = pd.read_csv(\"titanic-dataset.csv\")\n",
        "\n",
        "survival = titanic.groupby('Sex')['Survived'].mean()\n",
        "survival.plot(kind='bar')\n",
        "plt.title(\"Survival rate based on gender\")\n",
        "plt.ylabel(\"Survival rate\")\n",
        "plt.xlabel(\"Gender\")\n"
      ],
      "metadata": {
        "colab": {
          "base_uri": "https://localhost:8080/",
          "height": 523
        },
        "id": "bCPyVhNfqX4J",
        "outputId": "bb0315f0-18a5-4697-d732-8d12fbd204cd"
      },
      "execution_count": 35,
      "outputs": [
        {
          "output_type": "execute_result",
          "data": {
            "text/plain": [
              "Text(0.5, 0, 'Gender')"
            ]
          },
          "metadata": {},
          "execution_count": 35
        },
        {
          "output_type": "display_data",
          "data": {
            "text/plain": [
              "<Figure size 640x480 with 1 Axes>"
            ],
            "image/png": "[encoded data removed]"
          },
          "metadata": {}
        }
      ]
    },
    {
      "cell_type": "markdown",
      "source": [
        "\n",
        "Data Transformation"
      ],
      "metadata": {
        "id": "txZ8tEioq_-t"
      }
    },
    {
      "cell_type": "markdown",
      "source": [
        "Load a dataset containing daily temperatures and dates"
      ],
      "metadata": {
        "id": "umdWDSUSrPj8"
      }
    },
    {
      "cell_type": "code",
      "source": [
        "data={'Date':['2024-01-01','2024-01-02','2024-01-03'],'Temperature':[29,40,12]}\n",
        "temp=pd.DataFrame(data)\n",
        "print(temp)"
      ],
      "metadata": {
        "colab": {
          "base_uri": "https://localhost:8080/"
        },
        "id": "P3nbBclwq9N0",
        "outputId": "5d9d87bb-5250-491e-857f-915793ceb7a5"
      },
      "execution_count": 33,
      "outputs": [
        {
          "output_type": "stream",
          "name": "stdout",
          "text": [
            "         Date  Temperature\n",
            "0  2024-01-01           29\n",
            "1  2024-01-02           40\n",
            "2  2024-01-03           12\n"
          ]
        }
      ]
    },
    {
      "cell_type": "markdown",
      "source": [
        "Convert the date column into a DateTime object"
      ],
      "metadata": {
        "id": "veJIK0elq9hl"
      }
    },
    {
      "cell_type": "code",
      "source": [
        "\n",
        "temp['Date']=pd.to_datetime(temp['Date'])\n",
        "print(temp)"
      ],
      "metadata": {
        "colab": {
          "base_uri": "https://localhost:8080/"
        },
        "id": "mQsqrWDUra73",
        "outputId": "89f31511-f899-4e7f-aa0b-c4c8e890a7fb"
      },
      "execution_count": 23,
      "outputs": [
        {
          "output_type": "stream",
          "name": "stdout",
          "text": [
            "        Date  Temperature\n",
            "0 2024-01-01           29\n",
            "1 2024-01-02           40\n",
            "2 2024-01-03           12\n"
          ]
        }
      ]
    },
    {
      "cell_type": "markdown",
      "source": [
        "\n",
        "\n",
        "Create a new column that categorizes temperatures into High, Medium, or low"
      ],
      "metadata": {
        "id": "e8rsk8YMrfsX"
      }
    },
    {
      "cell_type": "code",
      "source": [
        "\n",
        "def categorize(temperature):\n",
        "  if temperature>=30:\n",
        "    return 'High'\n",
        "  elif 20<=temperature<30:\n",
        "    return 'Medium'\n",
        "  else:\n",
        "    return 'Low'\n",
        "temp['category']=temp['Temperature'].apply(categorize)\n",
        "print(temp)"
      ],
      "metadata": {
        "colab": {
          "base_uri": "https://localhost:8080/"
        },
        "id": "V59PtQa1roY1",
        "outputId": "73b67a53-9929-4633-c284-df01be46fbbd"
      },
      "execution_count": 24,
      "outputs": [
        {
          "output_type": "stream",
          "name": "stdout",
          "text": [
            "        Date  Temperature category\n",
            "0 2024-01-01           29   Medium\n",
            "1 2024-01-02           40     High\n",
            "2 2024-01-03           12      Low\n"
          ]
        }
      ]
    }
  ]
}