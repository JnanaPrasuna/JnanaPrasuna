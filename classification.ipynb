{
  "nbformat": 4,
  "nbformat_minor": 0,
  "metadata": {
    "colab": {
      "provenance": [],
      "authorship_tag": "ABX9TyORNhoo2Eu2p9iew5DydVMZ",
      "include_colab_link": true
    },
    "kernelspec": {
      "name": "python3",
      "display_name": "Python 3"
    },
    "language_info": {
      "name": "python"
    }
  },
  "cells": [
    {
      "cell_type": "markdown",
      "metadata": {
        "id": "view-in-github",
        "colab_type": "text"
      },
      "source": [
        "<a href=\"https://colab.research.google.com/github/JnanaPrasuna/JnanaPrasuna/blob/main/classification.ipynb\" target=\"_parent\"><img src=\"https://colab.research.google.com/assets/colab-badge.svg\" alt=\"Open In Colab\"/></a>"
      ]
    },
    {
      "cell_type": "code",
      "execution_count": 16,
      "metadata": {
        "id": "KN3ad0QHPFsT"
      },
      "outputs": [],
      "source": [
        "# Import necessary libraries\n",
        "import pandas as pd\n",
        "import numpy as np\n",
        "from sklearn.model_selection import train_test_split\n",
        "from sklearn.preprocessing import LabelEncoder, StandardScaler\n",
        "from sklearn.metrics import accuracy_score, precision_score, recall_score, f1_score, classification_report\n",
        "from sklearn.linear_model import LogisticRegression\n",
        "from sklearn.naive_bayes import GaussianNB\n",
        "from sklearn.neighbors import KNeighborsClassifier\n",
        "from sklearn.tree import DecisionTreeClassifier\n",
        "from sklearn.svm import SVC"
      ]
    },
    {
      "cell_type": "code",
      "source": [
        "# Define the evaluate_model function\n",
        "def evaluate_model(model, X_train, X_test, y_train, y_test):\n",
        "  model.fit(X_train, y_train)\n",
        "  y_pred = model.predict(X_test)\n",
        "\n",
        "  metrics = {\n",
        "        \"Accuracy\": accuracy_score(y_test, y_pred),\n",
        "        \"Precision\": precision_score(y_test, y_pred, average='weighted'),\n",
        "        \"Recall\": recall_score(y_test, y_pred, average='weighted'),\n",
        "        \"F1-Score\": f1_score(y_test, y_pred, average='weighted')\n",
        "    }\n",
        "  report = classification_report(y_test, y_pred)\n",
        "  return metrics, report\n"
      ],
      "metadata": {
        "id": "D6Y5rh_aWBjg"
      },
      "execution_count": 24,
      "outputs": []
    },
    {
      "cell_type": "code",
      "source": [
        "#LOADING DATASET\n",
        "penguins = pd.read_csv('/content/penguins_size.csv')"
      ],
      "metadata": {
        "id": "aQbLYHNfPU3a"
      },
      "execution_count": 3,
      "outputs": []
    },
    {
      "cell_type": "code",
      "source": [
        "\n",
        "penguins.dropna(inplace=True)\n"
      ],
      "metadata": {
        "id": "TqmJuz6HPanU"
      },
      "execution_count": 4,
      "outputs": []
    },
    {
      "cell_type": "code",
      "source": [
        "penguins.isnull().sum()"
      ],
      "metadata": {
        "colab": {
          "base_uri": "https://localhost:8080/",
          "height": 303
        },
        "id": "3rz5noUTPdPA",
        "outputId": "1a0f5bcf-c02c-4d82-f3ea-e9af75958d8e"
      },
      "execution_count": 5,
      "outputs": [
        {
          "output_type": "execute_result",
          "data": {
            "text/plain": [
              "species              0\n",
              "island               0\n",
              "culmen_length_mm     0\n",
              "culmen_depth_mm      0\n",
              "flipper_length_mm    0\n",
              "body_mass_g          0\n",
              "sex                  0\n",
              "dtype: int64"
            ],
            "text/html": [
              "<div>\n",
              "<style scoped>\n",
              "    .dataframe tbody tr th:only-of-type {\n",
              "        vertical-align: middle;\n",
              "    }\n",
              "\n",
              "    .dataframe tbody tr th {\n",
              "        vertical-align: top;\n",
              "    }\n",
              "\n",
              "    .dataframe thead th {\n",
              "        text-align: right;\n",
              "    }\n",
              "</style>\n",
              "<table border=\"1\" class=\"dataframe\">\n",
              "  <thead>\n",
              "    <tr style=\"text-align: right;\">\n",
              "      <th></th>\n",
              "      <th>0</th>\n",
              "    </tr>\n",
              "  </thead>\n",
              "  <tbody>\n",
              "    <tr>\n",
              "      <th>species</th>\n",
              "      <td>0</td>\n",
              "    </tr>\n",
              "    <tr>\n",
              "      <th>island</th>\n",
              "      <td>0</td>\n",
              "    </tr>\n",
              "    <tr>\n",
              "      <th>culmen_length_mm</th>\n",
              "      <td>0</td>\n",
              "    </tr>\n",
              "    <tr>\n",
              "      <th>culmen_depth_mm</th>\n",
              "      <td>0</td>\n",
              "    </tr>\n",
              "    <tr>\n",
              "      <th>flipper_length_mm</th>\n",
              "      <td>0</td>\n",
              "    </tr>\n",
              "    <tr>\n",
              "      <th>body_mass_g</th>\n",
              "      <td>0</td>\n",
              "    </tr>\n",
              "    <tr>\n",
              "      <th>sex</th>\n",
              "      <td>0</td>\n",
              "    </tr>\n",
              "  </tbody>\n",
              "</table>\n",
              "</div><br><label><b>dtype:</b> int64</label>"
            ]
          },
          "metadata": {},
          "execution_count": 5
        }
      ]
    },
    {
      "cell_type": "code",
      "source": [
        "label_encoders = {}\n",
        "for column in ['species', 'sex', 'island']:\n",
        "    le = LabelEncoder()\n",
        "    # Fix: Use penguins[column] to select the column and apply dropna() to it\n",
        "    penguins[column] = le.fit_transform(penguins[column].dropna())\n",
        "    label_encoders[column] = le"
      ],
      "metadata": {
        "id": "a58oSDP1PlbF"
      },
      "execution_count": 6,
      "outputs": []
    },
    {
      "cell_type": "code",
      "source": [
        "X = penguins.drop(columns=['species']) # Use square brackets to select the 'species' column as a DataFrame.\n",
        "y = penguins['species']\n",
        "\n",
        "# Split the dataset into training and testing sets\n",
        "X_train, X_test, y_train, y_test = train_test_split(X, y, test_size=0.3, random_state=42, stratify=y)\n",
        "\n",
        ""
      ],
      "metadata": {
        "id": "xV1kM9OcPyNn"
      },
      "execution_count": 7,
      "outputs": []
    },
    {
      "cell_type": "code",
      "source": [
        "scaler = StandardScaler()\n",
        "X_train = scaler.fit_transform(X_train)\n",
        "X_test = scaler.transform(X_test)"
      ],
      "metadata": {
        "id": "SUir3zX3P6aI"
      },
      "execution_count": 8,
      "outputs": []
    },
    {
      "cell_type": "code",
      "source": [
        "scaler = StandardScaler()\n",
        "X_train = scaler.fit_transform(X_train)\n",
        "X_test = scaler.transform(X_test)"
      ],
      "metadata": {
        "id": "fBpoyoTXP-l2"
      },
      "execution_count": 9,
      "outputs": []
    },
    {
      "cell_type": "code",
      "source": [
        "models = {\n",
        "    \"Logistic Regression\": LogisticRegression(max_iter=200),\n",
        "    \"Naïve Bayes\": GaussianNB(),\n",
        "    \"KNN\": KNeighborsClassifier(n_neighbors=5),\n",
        "    \"Decision Tree\": DecisionTreeClassifier(random_state=42),\n",
        "    \"Support Vector Classifier\": SVC(kernel='linear', random_state=42)\n",
        "}"
      ],
      "metadata": {
        "id": "6r8EhW6GQJlV"
      },
      "execution_count": 10,
      "outputs": []
    },
    {
      "cell_type": "code",
      "source": [
        "results = {}\n",
        "for name, model in models.items():\n",
        "    metrics, report = evaluate_model(model, X_train, X_test, y_train, y_test)\n",
        "    results[name] = (metrics, report)\n",
        "\n",
        "# Display results\n",
        "for name, (metrics, report) in results.items():\n",
        "    print(f\"\\n{name} Performance Metrics:\")\n",
        "    for metric, value in metrics.items():\n",
        "        print(f\"{metric}: {value:.2f}\")\n",
        "    print(\"\\nClassification Report:\\n\", report)"
      ],
      "metadata": {
        "colab": {
          "base_uri": "https://localhost:8080/"
        },
        "id": "WQl8_CdkQSod",
        "outputId": "4445d846-fc71-4467-a0ed-d6d6149c85d4"
      },
      "execution_count": 25,
      "outputs": [
        {
          "output_type": "stream",
          "name": "stdout",
          "text": [
            "\n",
            "Logistic Regression Performance Metrics:\n",
            "Accuracy: 1.00\n",
            "Precision: 1.00\n",
            "Recall: 1.00\n",
            "F1-Score: 1.00\n",
            "\n",
            "Classification Report:\n",
            "               precision    recall  f1-score   support\n",
            "\n",
            "           0       1.00      1.00      1.00        44\n",
            "           1       1.00      1.00      1.00        21\n",
            "           2       1.00      1.00      1.00        36\n",
            "\n",
            "    accuracy                           1.00       101\n",
            "   macro avg       1.00      1.00      1.00       101\n",
            "weighted avg       1.00      1.00      1.00       101\n",
            "\n",
            "\n",
            "Naïve Bayes Performance Metrics:\n",
            "Accuracy: 0.85\n",
            "Precision: 0.91\n",
            "Recall: 0.85\n",
            "F1-Score: 0.85\n",
            "\n",
            "Classification Report:\n",
            "               precision    recall  f1-score   support\n",
            "\n",
            "           0       1.00      0.66      0.79        44\n",
            "           1       0.60      1.00      0.75        21\n",
            "           2       0.97      1.00      0.99        36\n",
            "\n",
            "    accuracy                           0.85       101\n",
            "   macro avg       0.86      0.89      0.84       101\n",
            "weighted avg       0.91      0.85      0.85       101\n",
            "\n",
            "\n",
            "KNN Performance Metrics:\n",
            "Accuracy: 1.00\n",
            "Precision: 1.00\n",
            "Recall: 1.00\n",
            "F1-Score: 1.00\n",
            "\n",
            "Classification Report:\n",
            "               precision    recall  f1-score   support\n",
            "\n",
            "           0       1.00      1.00      1.00        44\n",
            "           1       1.00      1.00      1.00        21\n",
            "           2       1.00      1.00      1.00        36\n",
            "\n",
            "    accuracy                           1.00       101\n",
            "   macro avg       1.00      1.00      1.00       101\n",
            "weighted avg       1.00      1.00      1.00       101\n",
            "\n",
            "\n",
            "Decision Tree Performance Metrics:\n",
            "Accuracy: 0.98\n",
            "Precision: 0.98\n",
            "Recall: 0.98\n",
            "F1-Score: 0.98\n",
            "\n",
            "Classification Report:\n",
            "               precision    recall  f1-score   support\n",
            "\n",
            "           0       0.96      1.00      0.98        44\n",
            "           1       1.00      1.00      1.00        21\n",
            "           2       1.00      0.94      0.97        36\n",
            "\n",
            "    accuracy                           0.98       101\n",
            "   macro avg       0.99      0.98      0.98       101\n",
            "weighted avg       0.98      0.98      0.98       101\n",
            "\n",
            "\n",
            "Support Vector Classifier Performance Metrics:\n",
            "Accuracy: 1.00\n",
            "Precision: 1.00\n",
            "Recall: 1.00\n",
            "F1-Score: 1.00\n",
            "\n",
            "Classification Report:\n",
            "               precision    recall  f1-score   support\n",
            "\n",
            "           0       1.00      1.00      1.00        44\n",
            "           1       1.00      1.00      1.00        21\n",
            "           2       1.00      1.00      1.00        36\n",
            "\n",
            "    accuracy                           1.00       101\n",
            "   macro avg       1.00      1.00      1.00       101\n",
            "weighted avg       1.00      1.00      1.00       101\n",
            "\n"
          ]
        }
      ]
    }
  ]
}